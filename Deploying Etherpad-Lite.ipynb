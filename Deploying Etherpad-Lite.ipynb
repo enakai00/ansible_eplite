{
 "cells": [
  {
   "cell_type": "markdown",
   "metadata": {},
   "source": [
    "## Ansible実行環境の準備"
   ]
  },
  {
   "cell_type": "markdown",
   "metadata": {},
   "source": [
    "Ansible設定ファイル $HOME/.ansible.cfg を作成します。"
   ]
  },
  {
   "cell_type": "code",
   "execution_count": 1,
   "metadata": {
    "collapsed": false
   },
   "outputs": [],
   "source": [
    "%%bash\n",
    "cat <<EOF > $HOME/.ansible.cfg\n",
    "[defaults]\n",
    "deprecation_warnings = False\n",
    "EOF"
   ]
  },
  {
   "cell_type": "markdown",
   "metadata": {},
   "source": [
    "OpenStack操作用の環境変数設定ファイルを作成します。設定内容は環境に応じて変わります。"
   ]
  },
  {
   "cell_type": "code",
   "execution_count": 2,
   "metadata": {
    "collapsed": false
   },
   "outputs": [],
   "source": [
    "%%bash\n",
    "cat <<EOF >$HOME/keystonerc_demo_user\n",
    "export OS_TENANT_NAME=demo\n",
    "export OS_USERNAME=demo_user\n",
    "export OS_PASSWORD=passw0rd\n",
    "export OS_AUTH_URL=http://192.168.1.9:5000/v2.0\n",
    "EOF"
   ]
  },
  {
   "cell_type": "markdown",
   "metadata": {},
   "source": [
    "ゲストOSを操作するためのSSH鍵を作成します。"
   ]
  },
  {
   "cell_type": "code",
   "execution_count": 3,
   "metadata": {
    "collapsed": false
   },
   "outputs": [
    {
     "name": "stdout",
     "output_type": "stream",
     "text": [
      "Generating public/private rsa key pair.\n",
      "Created directory '/root/.ssh'.\n",
      "Your identification has been saved in /root/.ssh/id_rsa.\n",
      "Your public key has been saved in /root/.ssh/id_rsa.pub.\n",
      "The key fingerprint is:\n",
      "27:76:ea:8f:3c:3a:38:ae:92:5d:e8:4e:e4:52:07:1d root@0820d5a4058c\n",
      "The key's randomart image is:\n",
      "+--[ RSA 2048]----+\n",
      "|    E            |\n",
      "|   . .           |\n",
      "|  . .            |\n",
      "|   .             |\n",
      "|  o..   S o      |\n",
      "| +...  . =       |\n",
      "|.+o. .  .        |\n",
      "|ooo o .o..       |\n",
      "| ooo...o+o.      |\n",
      "+-----------------+\n"
     ]
    }
   ],
   "source": [
    "%%bash\n",
    "if [[ ! -f $HOME/.ssh/id_rsa ]]; then\n",
    "    ssh-keygen -N \"\" -f $HOME/.ssh/id_rsa\n",
    "fi"
   ]
  },
  {
   "cell_type": "markdown",
   "metadata": {},
   "source": [
    "## 環境構築用Playbookの準備"
   ]
  },
  {
   "cell_type": "markdown",
   "metadata": {},
   "source": [
    "GitHubからPlaybookを取得して、本作業用のブランチに移動します。"
   ]
  },
  {
   "cell_type": "code",
   "execution_count": 4,
   "metadata": {
    "collapsed": false
   },
   "outputs": [
    {
     "name": "stdout",
     "output_type": "stream",
     "text": [
      "Cloning into 'ansible_eplite'...\n",
      "Branch jupyter set up to track remote branch jupyter from origin.\n"
     ]
    },
    {
     "name": "stderr",
     "output_type": "stream",
     "text": [
      "Switched to a new branch 'jupyter'\n"
     ]
    }
   ],
   "source": [
    "%%bash\n",
    "git clone https://github.com/enakai00/ansible_eplite\n",
    "cd ansible_eplite\n",
    "git checkout jupyter"
   ]
  },
  {
   "cell_type": "markdown",
   "metadata": {},
   "source": [
    "## OpenStackテナント環境の準備"
   ]
  },
  {
   "cell_type": "markdown",
   "metadata": {},
   "source": [
    "テナント環境の準備として以下を実施します。\n",
    "\n",
    "- 鍵ペアー「jupyter」の登録\n",
    "- セキュリティグループ「eplite」の作成"
   ]
  },
  {
   "cell_type": "code",
   "execution_count": 5,
   "metadata": {
    "collapsed": false
   },
   "outputs": [
    {
     "name": "stdout",
     "output_type": "stream",
     "text": [
      "\n",
      "PLAY ***************************************************************************\n",
      "\n",
      "TASK [import keypairs] *********************************************************\n",
      "changed: [localhost] => (item={u'public_key_file': u'/root/.ssh/id_rsa.pub', u'name': u'jupyter'})\n",
      "\n",
      "TASK [create security group] ***************************************************\n",
      "changed: [localhost] => (item={u'rules': [{u'port_range_min': -1, u'port_range_max': -1, u'protocol': u'icmp', u'remote_ip_prefix': u'0.0.0.0/0'}, {u'port_range_min': 22, u'port_range_max': 22, u'protocol': u'tcp', u'remote_ip_prefix': u'0.0.0.0/0'}, {u'port_range_min': 80, u'port_range_max': 80, u'protocol': u'tcp', u'remote_ip_prefix': u'0.0.0.0/0'}, {u'port_range_min': 3306, u'port_range_max': 3306, u'protocol': u'tcp', u'remote_ip_prefix': u'0.0.0.0/0'}], u'name': u'eplite', u'desc': u'secgroup for eplite'})\n",
      "\n",
      "TASK [add rules to secgroup] ***************************************************\n",
      "changed: [localhost] => (item=({u'name': u'eplite', u'desc': u'secgroup for eplite'}, {u'port_range_min': -1, u'port_range_max': -1, u'protocol': u'icmp', u'remote_ip_prefix': u'0.0.0.0/0'}))\n",
      "changed: [localhost] => (item=({u'name': u'eplite', u'desc': u'secgroup for eplite'}, {u'port_range_min': 22, u'port_range_max': 22, u'protocol': u'tcp', u'remote_ip_prefix': u'0.0.0.0/0'}))\n",
      "changed: [localhost] => (item=({u'name': u'eplite', u'desc': u'secgroup for eplite'}, {u'port_range_min': 80, u'port_range_max': 80, u'protocol': u'tcp', u'remote_ip_prefix': u'0.0.0.0/0'}))\n",
      "changed: [localhost] => (item=({u'name': u'eplite', u'desc': u'secgroup for eplite'}, {u'port_range_min': 3306, u'port_range_max': 3306, u'protocol': u'tcp', u'remote_ip_prefix': u'0.0.0.0/0'}))\n",
      "\n",
      "PLAY RECAP *********************************************************************\n",
      "localhost                  : ok=3    changed=3    unreachable=0    failed=0   \n",
      "\n"
     ]
    },
    {
     "name": "stderr",
     "output_type": "stream",
     "text": [
      " [WARNING]: provided hosts list is empty, only localhost is available\n"
     ]
    }
   ],
   "source": [
    "%%bash\n",
    "source $HOME/keystonerc_demo_user\n",
    "cd $HOME/notebook/ansible_eplite/playbooks\n",
    "ansible-playbook -i bin/openstack.py lib/prep_tenant.yml"
   ]
  },
  {
   "cell_type": "markdown",
   "metadata": {},
   "source": [
    "## VMインスタンスの起動"
   ]
  },
  {
   "cell_type": "markdown",
   "metadata": {},
   "source": [
    "MySQL用のVMインスタンス「epmysql」を起動します。"
   ]
  },
  {
   "cell_type": "code",
   "execution_count": 6,
   "metadata": {
    "collapsed": false
   },
   "outputs": [
    {
     "name": "stdout",
     "output_type": "stream",
     "text": [
      "\n",
      "PLAY ***************************************************************************\n",
      "\n",
      "TASK [create servers] **********************************************************\n",
      "changed: [localhost]\n",
      "\n",
      "TASK [create and assign floating_ip to server] *********************************\n",
      "changed: [localhost]\n",
      "\n",
      "PLAY RECAP *********************************************************************\n",
      "localhost                  : ok=2    changed=2    unreachable=0    failed=0   \n",
      "\n"
     ]
    },
    {
     "name": "stderr",
     "output_type": "stream",
     "text": [
      " [WARNING]: provided hosts list is empty, only localhost is available\n"
     ]
    }
   ],
   "source": [
    "%%bash\n",
    "source $HOME/keystonerc_demo_user\n",
    "cd $HOME/notebook/ansible_eplite/playbooks\n",
    "ansible-playbook -i bin/openstack.py lib/create_instances.yml --extra-vars \"server=epmysql\""
   ]
  },
  {
   "cell_type": "markdown",
   "metadata": {},
   "source": [
    "EP-Lite用のVMインスタンス「eplite」を起動します。"
   ]
  },
  {
   "cell_type": "code",
   "execution_count": 7,
   "metadata": {
    "collapsed": false
   },
   "outputs": [
    {
     "name": "stdout",
     "output_type": "stream",
     "text": [
      "\n",
      "PLAY ***************************************************************************\n",
      "\n",
      "TASK [create servers] **********************************************************\n",
      "changed: [localhost]\n",
      "\n",
      "TASK [create and assign floating_ip to server] *********************************\n",
      "changed: [localhost]\n",
      "\n",
      "PLAY RECAP *********************************************************************\n",
      "localhost                  : ok=2    changed=2    unreachable=0    failed=0   \n",
      "\n"
     ]
    },
    {
     "name": "stderr",
     "output_type": "stream",
     "text": [
      " [WARNING]: provided hosts list is empty, only localhost is available\n"
     ]
    }
   ],
   "source": [
    "%%bash\n",
    "source $HOME/keystonerc_demo_user\n",
    "cd $HOME/notebook/ansible_eplite/playbooks\n",
    "ansible-playbook -i bin/openstack.py lib/create_instances.yml --extra-vars \"server=eplite\""
   ]
  },
  {
   "cell_type": "markdown",
   "metadata": {},
   "source": [
    "VMインスタンスにアサインされたフローティングIPアドレスを確認します。"
   ]
  },
  {
   "cell_type": "code",
   "execution_count": 8,
   "metadata": {
    "collapsed": false
   },
   "outputs": [
    {
     "name": "stdout",
     "output_type": "stream",
     "text": [
      "+--------------------------------------+-------------+--------+------------+-------------+-----------------------------------------+\n",
      "| ID                                   | Name        | Status | Task State | Power State | Networks                                |\n",
      "+--------------------------------------+-------------+--------+------------+-------------+-----------------------------------------+\n",
      "| 8acdb1ac-4276-4fe1-b345-3cad07579be2 | eplite      | ACTIVE | -          | Running     | private01=192.168.101.36                |\n",
      "| 2ec92408-edc4-4578-beb2-069626e5e415 | epmysql     | ACTIVE | -          | Running     | private01=192.168.101.35, 192.168.1.105 |\n",
      "| 8ae63c08-99a7-416a-8273-f25dc4f9d753 | step-server | ACTIVE | -          | Running     | private01=192.168.101.7, 192.168.1.102  |\n",
      "+--------------------------------------+-------------+--------+------------+-------------+-----------------------------------------+\n"
     ]
    }
   ],
   "source": [
    "%%bash\n",
    "source $HOME/keystonerc_demo_user\n",
    "nova list"
   ]
  },
  {
   "cell_type": "markdown",
   "metadata": {},
   "source": [
    "VMインスタンス「epmysql」「eplite」へのSSH接続を確認します。\n",
    "\n",
    "接続先のフローティングIPは上で確認したものを指定してください。"
   ]
  },
  {
   "cell_type": "code",
   "execution_count": 9,
   "metadata": {
    "collapsed": false
   },
   "outputs": [
    {
     "name": "stdout",
     "output_type": "stream",
     "text": [
      "Warning: Permanently added '192.168.1.105' (ECDSA) to the list of known hosts.\n",
      "epmysql\n"
     ]
    }
   ],
   "source": [
    "!ssh -o StrictHostKeyChecking=no centos@192.168.1.105 hostname"
   ]
  },
  {
   "cell_type": "code",
   "execution_count": 10,
   "metadata": {
    "collapsed": false
   },
   "outputs": [
    {
     "name": "stdout",
     "output_type": "stream",
     "text": [
      "Warning: Permanently added '192.168.1.101' (ECDSA) to the list of known hosts.\n",
      "eplite\n"
     ]
    }
   ],
   "source": [
    "!ssh -o StrictHostKeyChecking=no centos@192.168.1.101 hostname"
   ]
  },
  {
   "cell_type": "markdown",
   "metadata": {},
   "source": [
    "「epmysql」にデータ保存用のCinderボリュームを接続します。"
   ]
  },
  {
   "cell_type": "code",
   "execution_count": 11,
   "metadata": {
    "collapsed": false,
    "scrolled": true
   },
   "outputs": [
    {
     "name": "stdout",
     "output_type": "stream",
     "text": [
      "\n",
      "PLAY ***************************************************************************\n",
      "\n",
      "TASK [create database volume] **************************************************\n",
      "changed: [localhost] => (item={u'server': u'epmysql', u'name': u'mysql_volume', u'volsize': 2})\n",
      "\n",
      "TASK [attach database volume] **************************************************\n",
      "changed: [localhost] => (item={u'server': u'epmysql', u'name': u'mysql_volume', u'volsize': 2})\n",
      "\n",
      "PLAY RECAP *********************************************************************\n",
      "localhost                  : ok=2    changed=2    unreachable=0    failed=0   \n",
      "\n"
     ]
    }
   ],
   "source": [
    "%%bash\n",
    "source $HOME/keystonerc_demo_user\n",
    "cd $HOME/notebook/ansible_eplite/playbooks\n",
    "ansible-playbook -i bin/openstack.py lib/attach_volumes.yml \\\n",
    "--extra-vars '{\"volumes\": [{\"name\": \"mysql_volume\", \"volsize\": 2, \"server\": \"epmysql\"}]}'"
   ]
  },
  {
   "cell_type": "markdown",
   "metadata": {},
   "source": [
    "Cinderボリュームをフォーマットして、ゲストOSにマウントします。"
   ]
  },
  {
   "cell_type": "code",
   "execution_count": 12,
   "metadata": {
    "collapsed": false
   },
   "outputs": [
    {
     "name": "stdout",
     "output_type": "stream",
     "text": [
      "\n",
      "PLAY ***************************************************************************\n",
      "\n",
      "TASK [create filesystem] *******************************************************\n",
      "changed: [2ec92408-edc4-4578-beb2-069626e5e415]\n",
      "\n",
      "TASK [create directory] ********************************************************\n",
      "changed: [2ec92408-edc4-4578-beb2-069626e5e415]\n",
      "\n",
      "TASK [mount volume] ************************************************************\n",
      "changed: [2ec92408-edc4-4578-beb2-069626e5e415]\n",
      "\n",
      "TASK [set selinux context] *****************************************************\n",
      "changed: [2ec92408-edc4-4578-beb2-069626e5e415]\n",
      "\n",
      "PLAY RECAP *********************************************************************\n",
      "2ec92408-edc4-4578-beb2-069626e5e415 : ok=4    changed=4    unreachable=0    failed=0   \n",
      "\n"
     ]
    }
   ],
   "source": [
    "%%bash\n",
    "source $HOME/keystonerc_demo_user\n",
    "cd $HOME/notebook/ansible_eplite/playbooks\n",
    "ansible-playbook -i bin/openstack.py lib/mount_volume.yml \\\n",
    "-u centos --extra-vars \"server=epmysql\""
   ]
  },
  {
   "cell_type": "markdown",
   "metadata": {},
   "source": [
    "## コンテナによるアプリケーションのデプロイ"
   ]
  },
  {
   "cell_type": "markdown",
   "metadata": {},
   "source": [
    "MySQLとEP-Liteのコンテナをまとめてデプロイします。"
   ]
  },
  {
   "cell_type": "code",
   "execution_count": 13,
   "metadata": {
    "collapsed": false
   },
   "outputs": [
    {
     "name": "stdout",
     "output_type": "stream",
     "text": [
      "\n",
      "PLAY ***************************************************************************\n",
      "\n",
      "TASK [install require packages] ************************************************\n",
      "changed: [8acdb1ac-4276-4fe1-b345-3cad07579be2] => (item=[u'python-docker-py'])\n",
      "changed: [2ec92408-edc4-4578-beb2-069626e5e415] => (item=[u'python-docker-py'])\n",
      "\n",
      "TASK [deploy containers] *******************************************************\n",
      "changed: [2ec92408-edc4-4578-beb2-069626e5e415]\n",
      "changed: [8acdb1ac-4276-4fe1-b345-3cad07579be2]\n",
      "\n",
      "PLAY RECAP *********************************************************************\n",
      "2ec92408-edc4-4578-beb2-069626e5e415 : ok=2    changed=2    unreachable=0    failed=0   \n",
      "8acdb1ac-4276-4fe1-b345-3cad07579be2 : ok=2    changed=2    unreachable=0    failed=0   \n",
      "\n"
     ]
    }
   ],
   "source": [
    "%%bash\n",
    "source $HOME/keystonerc_demo_user\n",
    "cd $HOME/notebook/ansible_eplite/playbooks\n",
    "ansible-playbook -i bin/openstack.py lib/deploy_eplite.yml \\\n",
    "-u centos"
   ]
  },
  {
   "cell_type": "markdown",
   "metadata": {},
   "source": [
    "EP-LiteのフローティングIPにアクセスして、応答を確認します。"
   ]
  },
  {
   "cell_type": "code",
   "execution_count": 14,
   "metadata": {
    "collapsed": false
   },
   "outputs": [
    {
     "name": "stdout",
     "output_type": "stream",
     "text": [
      "\r\n",
      "<!doctype html>\r\n",
      "<html>\r\n",
      "\r\n",
      "        <title>Etherpad</title>\r\n",
      "    <script>\r\n",
      "      /*\r\n",
      "      |@licstart  The following is the entire license notice for the\r\n",
      "      JavaScript code in this page.|\r\n",
      "\r\n"
     ]
    }
   ],
   "source": [
    "!curl -s http://192.168.1.101 | head"
   ]
  }
 ],
 "metadata": {
  "kernelspec": {
   "display_name": "Python 2",
   "language": "python",
   "name": "python2"
  },
  "language_info": {
   "codemirror_mode": {
    "name": "ipython",
    "version": 2
   },
   "file_extension": ".py",
   "mimetype": "text/x-python",
   "name": "python",
   "nbconvert_exporter": "python",
   "pygments_lexer": "ipython2",
   "version": "2.7.5"
  }
 },
 "nbformat": 4,
 "nbformat_minor": 0
}
